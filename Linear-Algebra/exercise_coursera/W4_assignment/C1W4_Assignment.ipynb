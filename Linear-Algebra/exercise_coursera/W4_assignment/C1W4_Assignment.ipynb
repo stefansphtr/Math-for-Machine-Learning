{
 "cells": [
  {
   "cell_type": "markdown",
   "metadata": {
    "id": "EAt-K2qgcIou"
   },
   "source": [
    "#  Eigenvalues and Eigenvectors"
   ]
  },
  {
   "cell_type": "markdown",
   "metadata": {
    "id": "FZYK-0rin5x7"
   },
   "source": [
    "Welcome to the last assignment of this course and congratulations for making it this far. In this final assignment you will use your knowledge of linear algebra and your skills using Python and NumPy to address some real-world scenarios where linear algebra is actually used to solve and simplify problems.\n",
    "\n",
    "**After this assignment you will be able to:**\n",
    "- apply linear transformations, eigenvalues and eigenvectors in a webpage navigation model\n",
    "- apply PCA on a dataset to reduce its dimensions"
   ]
  },
  {
   "cell_type": "markdown",
   "metadata": {},
   "source": [
    "# Table of Contents\n",
    "- [ 1 - Application of Eigenvalues and Eigenvectors: Navigating Webpages](#1)\n",
    "  - [ Exercise 1](#ex01)\n",
    "  - [ Exercise 2](#ex02)\n",
    "- [ 2 - Application of Eigenvalues and Eigenvectors: Principal Component Analysis](#2)\n",
    "  - [2.1 Load the data](#2.1)\n",
    "  - [2.2 Get the covariance matrix](#2.2)\n",
    "    - [ Exercise 3](#ex03)\n",
    "    - [ Exercise 4](#ex04)\n",
    "  - [ 2.3 - Compute the eigenvalues and eigenvectors](#2.3)\n",
    "  - [ 2.4 Transform the centered data with PCA](#2.4)\n",
    "    - [ Exercise 5](#ex05)\n",
    "  - [ 2.5 Analizing the dimensionality reduction in 2 dimensions](#2.5)\n",
    "  - [ 2.6 Reconstructing the images from the eigenvectors](#2.6)\n",
    "  - [ 2.7 Explained variance](#2.7)"
   ]
  },
  {
   "cell_type": "markdown",
   "metadata": {
    "id": "XI8PBrk_2Z4V"
   },
   "source": [
    "## Packages\n",
    "\n",
    "Run the following cell to load the packages you'll need."
   ]
  },
  {
   "cell_type": "code",
   "execution_count": 1,
   "metadata": {
    "tags": [
     "graded"
    ]
   },
   "outputs": [],
   "source": [
    "import numpy as np\n",
    "import matplotlib.pyplot as plt\n",
    "import scipy.sparse.linalg"
   ]
  },
  {
   "cell_type": "markdown",
   "metadata": {},
   "source": [
    "Load the utils module and the unit tests defined for this notebook."
   ]
  },
  {
   "cell_type": "code",
   "execution_count": 2,
   "metadata": {
    "tags": []
   },
   "outputs": [],
   "source": [
    "import utils\n",
    "import w4_unittest"
   ]
  },
  {
   "cell_type": "markdown",
   "metadata": {},
   "source": [
    "<a name='1'></a>\n",
    "## 1 - Application of Eigenvalues and Eigenvectors: Navigating Webpages\n",
    "\n",
    "As you learned in the lectures, eigenvalues and eigenvectors play a very important role in what's called (discrete) dynamical systems. As you might recall, a **discrete dynamical system** descibes a system where, as time goes by, the state changes according to some process. When defining this dynamical systems you could represent all the possible states, such as sunny, rainy or cloudy, in a vector called the **state vector**. \n",
    "\n",
    "Each discrete dynamical system can me represented by a transition matrix $P$, which indicates, given a particular state, what are the chances or probabilities of moving to each of the other states. This means the element $(2,1)$ of the matrix represents the probability of transitioning from state $1$ to state $2$.\n",
    " \n",
    "Starting with an initial state $X_0$, the transition to the next state $X_1$ is a linear transformation defined by the transition matrix $P$: $X_1=PX_0$. That leads to $X_2=PX_1=P^2X_0$, $X_3=P^3X_0$, and so on. This implies that $X_t=PX_{t-1}$ for $t=0,1,2,3,\\ldots$. In other words, we can keep multiplying by `P` to move from one state to the next.\n",
    "\n",
    "One application of discrete dynamical systems is to model browsing web pages. Web pages often contain links to other pages, so the dynamical system would model how a user goes from one page to another by hopping from link to link. For simplicity, assume that the browser is only following links to a new page rather than navigating to an unlinked one. \n",
    "\n",
    "In this case, the state vector $X_t$ will be the probabilities that the browser is on a particular page at time $t$. Navigation from one page to another advances the model from one state vector $X_{t-1}$ to another state vector $X_t$. A linear transformation, defined by a matrix $P$, will have entries $p_{ij}$ with the probabilities that the browser navigates to page $j$ from page $i$. For fixed column $j$, the entries represent a probability distribution describing location of the browser at the next step, given that you are at state $j$. Thus, the entries in each column must add to 1."
   ]
  },
  {
   "cell_type": "markdown",
   "metadata": {},
   "source": [
    "<a name='ex01'></a>\n",
    "### Exercise 1\n",
    "\n",
    "For the sake of the example, consider there are only a small number of pages $n=5$. This means that the transition matrix $P$ will be a $5 \\times 5$ matrix. In this particular case, all elements on the main diagonal should be equal to $0$, since we are making the reasonable assumption that there is no existing link to the current page. Also, as metioned before, all the entries in each column must add to one. Here is an example of such a matrix for $n=5$:\n",
    "\n",
    "$$P=\n",
    "\\begin{bmatrix}\n",
    "0    & 0.75 & 0.35 & 0.25 & 0.85 \\\\\n",
    "0.15 & 0    & 0.35 & 0.25 & 0.05 \\\\\n",
    "0.15 & 0.15 & 0    & 0.25 & 0.05 \\\\\n",
    "0.15 & 0.05 & 0.05 & 0    & 0.05 \\\\\n",
    "0.55 & 0.05 & 0.25 & 0.25 & 0\n",
    "\\end{bmatrix}\\tag{5}\n",
    "$$\n",
    "\n",
    "Define vector $X_0$, so the browser starts navigation at page $4$ ($X_0$ is a vector with a single entry equal to one, and all other entries equal to zero). Apply the transformation once: $X_1=PX_0$ to find a vector of the probabilities that the browser is at each of four pages."
   ]
  },
  {
   "cell_type": "code",
   "execution_count": 6,
   "metadata": {
    "deletable": false,
    "tags": [
     "graded"
    ]
   },
   "outputs": [
    {
     "name": "stdout",
     "output_type": "stream",
     "text": [
      "Sum of columns of P: [1. 1. 1. 1. 1.]\n",
      "X1:\n",
      "[[0.25]\n",
      " [0.25]\n",
      " [0.25]\n",
      " [0.  ]\n",
      " [0.25]]\n"
     ]
    }
   ],
   "source": [
    "### START CODE HERE ###\n",
    "P = np.array([\n",
    "    \n",
    "    [0, 0.75, 0.35, 0.25, 0.85],\n",
    "    [0.15, 0, 0.35, 0.25, 0.05],\n",
    "    [0.15, 0.15, 0, 0.25, 0.05],\n",
    "    [0.15, 0.05, 0.05, 0, 0.05],\n",
    "    [0.55, 0.05, 0.25, 0.25, 0]\n",
    "]) \n",
    "\n",
    "X0 = np.array([[0], [0], [0], [1], [0]])\n",
    "# Multiply matrix P and X_0 (matrix multiplication).\n",
    "X1 = P@X0\n",
    "\n",
    "### END CODE HERE ###\n",
    "print(f'Sum of columns of P: {sum(P)}')\n",
    "print(f'X1:\\n{X1}')"
   ]
  },
  {
   "cell_type": "markdown",
   "metadata": {},
   "source": [
    "##### __Expected Output__\n",
    "\n",
    "```Python\n",
    "Sum of columns of P: [1. 1. 1. 1. 1.]\n",
    "X1:\n",
    "[[0.25]\n",
    " [0.25]\n",
    " [0.25]\n",
    " [0.  ]\n",
    " [0.25]]\n",
    "```"
   ]
  },
  {
   "cell_type": "code",
   "execution_count": 7,
   "metadata": {
    "deletable": false,
    "editable": false,
    "tags": []
   },
   "outputs": [
    {
     "name": "stdout",
     "output_type": "stream",
     "text": [
      "\u001b[92m All tests passed\n"
     ]
    }
   ],
   "source": [
    "# Test your solution.\n",
    "w4_unittest.test_matrix(P, X0, X1)"
   ]
  },
  {
   "cell_type": "markdown",
   "metadata": {},
   "source": [
    "Applying the transformation $m$ times you can find a vector $X_m$ with the probabilities of the browser being at each of the pages after $m$ steps of navigation."
   ]
  },
  {
   "cell_type": "code",
   "execution_count": 8,
   "metadata": {
    "tags": [
     "graded"
    ]
   },
   "outputs": [
    {
     "name": "stdout",
     "output_type": "stream",
     "text": [
      "[[0.39392366]\n",
      " [0.13392366]\n",
      " [0.11407667]\n",
      " [0.0850993 ]\n",
      " [0.27297672]]\n"
     ]
    }
   ],
   "source": [
    "X = np.array([[0],[0],[0],[1],[0]])\n",
    "m = 20\n",
    "\n",
    "for t in range(m):\n",
    "    X = P @ X\n",
    "    \n",
    "print(X)"
   ]
  },
  {
   "cell_type": "markdown",
   "metadata": {},
   "source": [
    "It is useful to predict the probabilities in $X_m$ when $m$ is large, and thus determine what pages a browser is more likely to visit after a long period of browsing the web. In other words, we want to know which pages ultimately get the most traffic. One way to do that is just apply the transformation many times, and with this small $5 \\times 5$ example you can do that just fine. In real life problems, however, you'll have enormous matrices and doing so will be computationally expensive. Here is where eigenvalues and eigenvectors can help here significantly reducing the amount of calculations. Let's see how!"
   ]
  },
  {
   "cell_type": "markdown",
   "metadata": {},
   "source": [
    "Begin by finding eigenvalues and eigenvectors for the previously defined matrix $P$:"
   ]
  },
  {
   "cell_type": "code",
   "execution_count": 9,
   "metadata": {
    "tags": [
     "graded"
    ]
   },
   "outputs": [
    {
     "name": "stdout",
     "output_type": "stream",
     "text": [
      "Eigenvalues of P:\n",
      "[ 1.         -0.70367062  0.00539505 -0.08267227 -0.21905217]\n",
      "\n",
      "Eigenvectors of P\n",
      "[[-0.76088562 -0.81362074  0.10935376  0.14270615 -0.39408574]\n",
      " [-0.25879453  0.050269   -0.6653158   0.67528802 -0.66465044]\n",
      " [-0.2204546   0.07869601 -0.29090665  0.17007443  0.35048734]\n",
      " [-0.1644783   0.12446953  0.19740707 -0.43678067  0.23311487]\n",
      " [-0.52766004  0.56018621  0.64946163 -0.55128793  0.47513398]]\n"
     ]
    }
   ],
   "source": [
    "eigenvals, eigenvecs = np.linalg.eig(P)\n",
    "print(f'Eigenvalues of P:\\n{eigenvals}\\n\\nEigenvectors of P\\n{eigenvecs}')"
   ]
  },
  {
   "cell_type": "markdown",
   "metadata": {},
   "source": [
    "As you can see, there is one eigenvalue with value $1$, and the other four have an aboslute values smaller than 1. It turns out this is a property of transition matrices. In fact, they have so many properties that these types of matrices fall into a category of matrices called **Markov matrix**. \n",
    "\n",
    "In general, a square matrix whose entries are all nonnegative, and the sum of the elements for each column is equal to $1$ is called a **Markov matrix**. Markov matrices have a handy property - they always have an eigenvalue equal to 1. As you learned in the lectues, in the case of transition matricies, the eigenvector associated with the eigenvalue $1$ will determine the state of the model in the long run , after evolving for a long period of time. \n",
    "\n",
    "You can easily verify that the matrix $P$ you defined earlier is in fact a Markov matrix. \n",
    "So, if $m$ is large enough, the equation $X_m=PX_{m-1}$ can be rewritten as $X_m=PX_{m-1}=1\\times X_m$. This means that predicting probabilities at time $m$, when $m$ is large you can simply just look for an eigenvector corresponding to the eigenvalue $1$. \n",
    "\n",
    "So, let's extract the eigenvector associated to the eigenvalue $1$. "
   ]
  },
  {
   "cell_type": "code",
   "execution_count": 10,
   "metadata": {
    "tags": [
     "graded"
    ]
   },
   "outputs": [
    {
     "name": "stdout",
     "output_type": "stream",
     "text": [
      "Eigenvector corresponding to the eigenvalue 1:\n",
      "[[-0.76088562]\n",
      " [-0.25879453]\n",
      " [-0.2204546 ]\n",
      " [-0.1644783 ]\n",
      " [-0.52766004]]\n"
     ]
    }
   ],
   "source": [
    "X_inf = eigenvecs[:,0]\n",
    "\n",
    "print(f\"Eigenvector corresponding to the eigenvalue 1:\\n{X_inf[:,np.newaxis]}\")"
   ]
  },
  {
   "cell_type": "markdown",
   "metadata": {},
   "source": [
    "<a name='ex02'></a>\n",
    "### Exercise 2\n",
    "\n",
    "Just to verify the results, perform matrix multiplication $PX$ (multiply matrix `P` and vector `X_inf`) to check that the result will be equal to the vector $X$ (`X_inf`)."
   ]
  },
  {
   "cell_type": "code",
   "execution_count": 12,
   "metadata": {
    "deletable": false,
    "tags": [
     "graded"
    ]
   },
   "outputs": [
    {
     "name": "stdout",
     "output_type": "stream",
     "text": [
      "Original eigenvector corresponding to the eigenvalue 1:\n",
      "[-0.76088562 -0.25879453 -0.2204546  -0.1644783  -0.52766004]\n",
      "Result of multiplication:[-0.76088562 -0.25879453 -0.2204546  -0.1644783  -0.52766004]\n",
      "Check that PX=X element by element:[ True  True  True  True  True]\n"
     ]
    }
   ],
   "source": [
    "# This is organised as a function only for grading purposes.\n",
    "def check_eigenvector(P, X_inf):\n",
    "    ### START CODE HERE ###\n",
    "    X_check = P@X_inf\n",
    "    ### END CODE HERE ###\n",
    "    return X_check\n",
    "\n",
    "X_check = check_eigenvector(P, X_inf)\n",
    "print(\"Original eigenvector corresponding to the eigenvalue 1:\\n\" + str(X_inf))\n",
    "print(\"Result of multiplication:\" + str(X_check))\n",
    "\n",
    "# Function np.isclose compares two NumPy arrays element by element, allowing for error tolerance (rtol parameter).\n",
    "print(\"Check that PX=X element by element:\" + str(np.isclose(X_inf, X_check, rtol=1e-10)))"
   ]
  },
  {
   "cell_type": "code",
   "execution_count": 14,
   "metadata": {
    "deletable": false,
    "editable": false,
    "tags": []
   },
   "outputs": [
    {
     "name": "stdout",
     "output_type": "stream",
     "text": [
      "\u001b[92m All tests passed\n"
     ]
    }
   ],
   "source": [
    "# Test your solution.\n",
    "w4_unittest.test_check_eigenvector(check_eigenvector)"
   ]
  },
  {
   "cell_type": "markdown",
   "metadata": {},
   "source": [
    "This result gives the direction of the eigenvector, but as you can see the entries can't be interpreted as probabilities since you have negative values, and they don't add to 1. That's no problem. Remember that by convention `np.eig` returns eigenvectors with norm 1, but actually any vector on the same line is also an eigenvector to the eigenvaue 1, so yo can simply scale the vector so that all entries are positive and add to one.This will give you the long-run probabilities of landing on a given web page."
   ]
  },
  {
   "cell_type": "code",
   "execution_count": 15,
   "metadata": {
    "tags": [
     "graded"
    ]
   },
   "outputs": [
    {
     "name": "stdout",
     "output_type": "stream",
     "text": [
      "Long-run probabiltites of being at each webpage:\n",
      "[[0.39377747]\n",
      " [0.13393269]\n",
      " [0.11409081]\n",
      " [0.08512166]\n",
      " [0.27307736]]\n"
     ]
    }
   ],
   "source": [
    "X_inf = X_inf/sum(X_inf)\n",
    "print(f\"Long-run probabiltites of being at each webpage:\\n{X_inf[:,np.newaxis]}\")"
   ]
  },
  {
   "cell_type": "markdown",
   "metadata": {},
   "source": [
    "This means that after navigating the web for a long time, the probability that the browser is at page 1 is 0.394, of being on page 2 is 0.134, on page 3 0.0114, on page 4 0.085, and finally page 5 has a probability of 0.273.\n",
    "\n",
    "Looking at this result you can conclude that page 1 is the most likely for the browser to be at, while page 4 is the least probable one.\n",
    "\n",
    "If you compare the result of `X_inf` with the one you got after evolving the systems 20 times, they are the same up to the third decimal!\n",
    "\n",
    "Here is a fun fact, this type of a model was the foundation of the PageRank algorithm, which is the basis of Google's very successful search engine."
   ]
  },
  {
   "cell_type": "markdown",
   "metadata": {},
   "source": [
    "<a name='2'></a>\n",
    "## 2 - Application of Eigenvalues and Eigenvectors: Principal Component Analysis\n",
    "\n",
    "As you learned in the lectures, one of the useful applications of eigenvalues and eigenvectors is the dimensionality reduction algorithm called Principal Component Analyisis, or PCA for short.\n",
    "\n",
    "In this second section of the assignment you will be applying PCA on an image dataset to perform image compression. \n",
    "\n",
    "You will be using a portion of the [Cat and dog face](https://www.kaggle.com/datasets/alessiosanna/cat-dog-64x64-pixel/data) dataset from Kaggle. In particular, you will be using the cat images.\n",
    "\n",
    "Remember that to apply PCA on any dataset you will begin by defining the covariance matrix. After that you will compute the eigenvalues and eigenvectors of this covariance matrix. Each of these eigenvectors will be a **principal component**. To perfrom the dimensionality reduction, you will take the $k$ principal components associated to the $k$ biggest eigenvalues, and transform the original data by projecting it onto the direction of these principal components (eigenvectors).\n",
    "\n",
    "<a name='2.1'></a>\n",
    "### 2.1 - Load the data\n",
    "Begin by loading the images and transforming them to black and withe using `load_images` function from utils. "
   ]
  },
  {
   "cell_type": "code",
   "execution_count": 16,
   "metadata": {
    "tags": []
   },
   "outputs": [],
   "source": [
    "imgs = utils.load_images('./data/')"
   ]
  },
  {
   "cell_type": "markdown",
   "metadata": {},
   "source": [
    "`imgs` should be a list, where each element of the list is an array (matrix). Let's check it out"
   ]
  },
  {
   "cell_type": "code",
   "execution_count": 17,
   "metadata": {
    "tags": []
   },
   "outputs": [
    {
     "name": "stdout",
     "output_type": "stream",
     "text": [
      "\n",
      "Your dataset has 55 images of size 64x64 pixels\n",
      "\n"
     ]
    }
   ],
   "source": [
    "height, width = imgs[0].shape\n",
    "\n",
    "print(f'\\nYour dataset has {len(imgs)} images of size {height}x{width} pixels\\n')"
   ]
  },
  {
   "cell_type": "markdown",
   "metadata": {},
   "source": [
    "Go ahead and plot one image to see what they look like. You can use the colormap 'gray' to plot in black and white. Feel free to look into as many pictures as you want."
   ]
  },
  {
   "cell_type": "code",
   "execution_count": 19,
   "metadata": {
    "tags": []
   },
   "outputs": [
    {
     "data": {
      "text/plain": [
       "<matplotlib.image.AxesImage at 0x1513fb4b890>"
      ]
     },
     "execution_count": 19,
     "metadata": {},
     "output_type": "execute_result"
    },
    {
     "data": {
      "image/png": "[encoded data removed]",
      "text/plain": [
       "<Figure size 640x480 with 1 Axes>"
      ]
     },
     "metadata": {},
     "output_type": "display_data"
    }
   ],
   "source": [
    "plt.imshow(imgs[0], cmap='gray')"
   ]
  },
  {
   "cell_type": "markdown",
   "metadata": {},
   "source": [
    "When working with images, you can consider each pixel as a variable. Having each image in matrix form is good for visualizing the image, but not so much for operating on each variable. \n",
    "\n",
    "In order to apply PCA for dimensionality reduction you will need to flatten each image into a single row vector. You can do this using the `reshape` function from NumPy. \n",
    "\n",
    "The resulting array will have 55 rows, one for each image, and 64x64=4096 columns."
   ]
  },
  {
   "cell_type": "code",
   "execution_count": 20,
   "metadata": {
    "tags": []
   },
   "outputs": [
    {
     "name": "stdout",
     "output_type": "stream",
     "text": [
      "imgs_flatten shape: (55, 4096)\n"
     ]
    }
   ],
   "source": [
    "imgs_flatten = np.array([im.reshape(-1) for im in imgs])\n",
    "\n",
    "print(f'imgs_flatten shape: {imgs_flatten.shape}')"
   ]
  },
  {
   "cell_type": "markdown",
   "metadata": {},
   "source": [
    "<a name='2.2'></a>\n",
    "## 2.2 - Get the covariance matrix\n",
    "\n",
    "Now that you have the images in the correct shape you are ready to apply PCA on the flattened dataset. \n",
    "\n",
    "If you consider each pixel (column) as a variable, and each image (rows) as an obervation you will have 55 observations of 4096 variables, $X_1, X_2, \\ldots, X_{4096}$ so that\n",
    "$$\\mathrm{imgs\\_flatten} = \\begin{bmatrix} x_{1,1} & x_{1,2} & \\ldots & x_{1,4096}\\\\\n",
    "                                           x_{2,1} & x_{2,2} & \\ldots & x_{2,4096} \\\\\n",
    "                                           \\vdots & \\vdots & \\ddots & \\vdots \\\\\n",
    "                                           x_{55,1} & x_{55,2} & \\ldots & x_{55,4096}\\end{bmatrix}$$\n",
    "\n",
    "\n",
    "As you might remember from the lectures, to compute PCA you first need to find the covariance matrix\n",
    "\n",
    "\n",
    "$$\\Sigma = \\begin{bmatrix}Var(X_1) & Cov(X_1, X_2) & \\ldots & Cov(X_1, X_{4096}) \\\\\n",
    "                          Cov(X_1, X_2) & Var(X_2) & \\ldots & Cov(X_2, X_{4096})\\\\\n",
    "                          \\vdots & \\vdots & \\ddots & \\vdots \\\\\n",
    "                          Cov(X_1,X_{4096}) & Cov(X_2, X_{4096}) &\\ldots & Var(X_{4096})\\end{bmatrix}$$\n",
    "\n",
    "<a name='ex03'></a>\n",
    "### Exercise 3\n",
    "\n",
    "In order to get the covariance matrix you first need to center the data by subtracting the mean for each variable (column). \n",
    "\n",
    "As you've seen in the lectures, the centered data matrix looks something like this:\n",
    "\n",
    "$$X = \\begin{bmatrix} (x_{1,1}- \\mu_1) & (x_{1,2}- \\mu_2) & \\ldots & (x_{1,4096}- \\mu_{4096})\\\\\n",
    "                                           (x_{2,1}- \\mu_1) & (x_{2,2}- \\mu_2) & \\ldots & (x_{2,4096}- \\mu_{4096}) \\\\\n",
    "                                           \\vdots & \\vdots & \\ddots & \\vdots \\\\\n",
    "                                           (x_{55,1}- \\mu_1) & (x_{55,2}- \\mu_2) & \\ldots & (x_{55,4096}- \\mu_{4096})\\end{bmatrix}$$\n",
    "\n",
    "From the lectures you know that, for example, the mean of the first variable (pixel) can be found as the mean of all the observations: $\\mu_1 = \\frac{1}{55} \\sum_{i=1}^{55} x_{i,1}$.\n",
    "\n",
    "\n",
    "For the following exercise you will implement a function that takes an array of shape $\\mathrm{Num. observations}\\times\\mathrm{Num. variables}$, and returns the centered data. \n",
    "\n",
    "To perfrom the centering you will need three numpy functions. Click on their names if you want to read the official documentation for each in more detail:\n",
    "- [`np.mean`](https://numpy.org/doc/stable/reference/generated/numpy.mean.html): use this function to compute the mean of each variable, just remember to pass the correct `axis` argument.\n",
    "- [`np.repeat`](https://numpy.org/doc/stable/reference/generated/numpy.repeat.html#numpy-repeat): This will allow for you to repeat the values of each $\\mu_i$ . \n",
    "- [`np.reshape`](https://numpy.org/doc/stable/reference/generated/numpy.reshape.html#numpy-reshape): Use this function to reshape the repeated values into a matrix of shape the same size as your input data. To get the correct matrix after the reshape, remember to use the parameter `order='F'`."
   ]
  },
  {
   "cell_type": "code",
   "execution_count": 27,
   "metadata": {
    "deletable": false,
    "tags": [
     "graded"
    ]
   },
   "outputs": [],
   "source": [
    "def center_data(Y):\n",
    "    \"\"\"\n",
    "    Center your original data\n",
    "    Args:\n",
    "         Y (ndarray): input data. Shape (n_observations x n_pixels)\n",
    "    Outputs:\n",
    "        X (ndarray): centered data\n",
    "    \"\"\"\n",
    "    ### START CODE HERE ###\n",
    "    # Compute the mean of Y along the 0th axis\n",
    "    mean_vector = np.mean(Y, axis=0)\n",
    "    \n",
    "    # Repeat the mean_vector n_observations times\n",
    "    mean_matrix = np.repeat(mean_vector, Y.shape[0])\n",
    "    \n",
    "    # Reshape the mean_matrix into the same shape as Y\n",
    "    mean_matrix = np.reshape(mean_matrix, Y.shape, order='F')\n",
    "    \n",
    "    # Subtract the mean_matrix from Y to center the data\n",
    "    X = Y - mean_matrix\n",
    "    ### END CODE HERE ###\n",
    "    return X"
   ]
  },
  {
   "cell_type": "markdown",
   "metadata": {},
   "source": [
    "Go ahead and apply the `center_data` function to your data in `imgs_flatten`. \n",
    "\n",
    "You can also print the image again and check that the face of the cat still looks the same. This is because the color scale is not fixed, but rather relative to the values of the pixels. "
   ]
  },
  {
   "cell_type": "code",
   "execution_count": 28,
   "metadata": {
    "tags": []
   },
   "outputs": [
    {
     "data": {
      "text/plain": [
       "<matplotlib.image.AxesImage at 0x15141e44c10>"
      ]
     },
     "execution_count": 28,
     "metadata": {},
     "output_type": "execute_result"
    },
    {
     "data": {
      "image/png": "[encoded data removed]",
      "text/plain": [
       "<Figure size 640x480 with 1 Axes>"
      ]
     },
     "metadata": {},
     "output_type": "display_data"
    }
   ],
   "source": [
    "X = center_data(imgs_flatten)\n",
    "plt.imshow(X[0].reshape(64,64), cmap='gray')"
   ]
  },
  {
   "cell_type": "code",
   "execution_count": 29,
   "metadata": {
    "deletable": false,
    "editable": false,
    "tags": []
   },
   "outputs": [
    {
     "name": "stdout",
     "output_type": "stream",
     "text": [
      "\u001b[92m All tests passed\n"
     ]
    }
   ],
   "source": [
    "# Test your solution.\n",
    "w4_unittest.test_center_data(center_data)"
   ]
  },
  {
   "cell_type": "markdown",
   "metadata": {},
   "source": [
    "### Exercise 4\n",
    "\n",
    "Now that you have your centered data, $X$, you can go ahead and find the covariance matrix \n",
    "\n",
    "You might remember from the lectures that once you have your centered data, the covariance matrix can be found by appliying the dot product between $X^T$ and $X$, and divide by the number of observations minus 1.\n",
    "\n",
    "To perform the dot product you can simply use the function [`np.dot`](https://numpy.org/doc/stable/reference/generated/numpy.dot.html#numpy-dot).\n"
   ]
  },
  {
   "cell_type": "code",
   "execution_count": null,
   "metadata": {
    "deletable": false,
    "tags": [
     "graded"
    ]
   },
   "outputs": [],
   "source": [
    "def get_cov_matrix(X):\n",
    "    \"\"\" Calculate covariance matrix from centered data X\n",
    "    Args:\n",
    "        X (np.ndarray): centered data matrix\n",
    "    Outputs:\n",
    "        cov_matrix (np.ndarray): covariance matrix\n",
    "    \"\"\"\n",
    "\n",
    "    ### START CODE HERE ###\n",
    "    cov_matrix = None\n",
    "    cov_matrix = None\n",
    "    ### END CODE HERE ###\n",
    "    \n",
    "    return cov_matrix"
   ]
  },
  {
   "cell_type": "code",
   "execution_count": null,
   "metadata": {
    "tags": []
   },
   "outputs": [],
   "source": [
    "cov_matrix = get_cov_matrix(X)"
   ]
  },
  {
   "cell_type": "markdown",
   "metadata": {},
   "source": [
    "Check the dimensions of the covariance matrix, it should be a square matrix with 4096 rows and columns. "
   ]
  },
  {
   "cell_type": "code",
   "execution_count": null,
   "metadata": {
    "tags": []
   },
   "outputs": [],
   "source": [
    "print(f'Covariance matrix shape: {cov_matrix.shape}')"
   ]
  },
  {
   "cell_type": "code",
   "execution_count": null,
   "metadata": {
    "deletable": false,
    "editable": false,
    "tags": []
   },
   "outputs": [],
   "source": [
    "# Test your solution.\n",
    "w4_unittest.test_cov_matrix(get_cov_matrix)"
   ]
  },
  {
   "cell_type": "markdown",
   "metadata": {},
   "source": [
    "<a name='2.3'></a>\n",
    "### 2.3 - Compute the eigenvalues and eigenvectors\n",
    "Now you are all set compute the eigenvalues and eigenvectors of the covariance matrix.\n",
    "Due to performance constaints, you will not be using `np.linalg.eig`, but rather the very similar function [`scipy.sparse.linalg.eigsh`](https://docs.scipy.org/doc/scipy/reference/generated/scipy.sparse.linalg.eigsh.html), which exploits the fact that $\\mathrm{cov\\_matrix}^T=\\mathrm{cov\\_matrix}$. Also, this function allows you to compute fewer number of eigenvalue-eigenvector pairs. \n",
    "\n",
    "It is outside of the scope of this course, but it can be shown that at most 55 eigenvalues of `cov_matrix` will be different from zero, which is the smallest dimension of the data matrix `X`. Thus, for computational efficiency, you will only be computing the first biggest 55 eigenvalues $\\lambda_1, \\ldots, \\lambda_{55}$ and their corresponding eigenvectors $v_1, \\ldots, v_{55}$. Feel free to try changing the `k` parameter in `scipy.sparse.linalg.eigsh` to something slightly bigger, to verify that all the new eigenvalues are zero. Try to keep it below 80, otherwise it will take too long to compute. \n",
    "\n",
    "The outputs of this scipy function are exactly the same as the ones from `np.linalg.eig`, except eigenvalues are ordered in decreasing order, so if you want to check out the largest eigenvalue you need to look into the last position of the vector. \n"
   ]
  },
  {
   "cell_type": "code",
   "execution_count": null,
   "metadata": {
    "tags": []
   },
   "outputs": [],
   "source": [
    "scipy.random.seed(7)\n",
    "eigenvals, eigenvecs = scipy.sparse.linalg.eigsh(cov_matrix, k=55)\n",
    "print(f'Ten largest eigenvalues: \\n{eigenvals[-10:]}')"
   ]
  },
  {
   "cell_type": "markdown",
   "metadata": {},
   "source": [
    "The random seed is fixed in the code above to help ensure the same eigenvectors are calculated each time. This is because for each eigenvector, there are actually two possible outcomes with norm 1. They fall on the same line but point in opposite directions. An example of this would be the vectors \n",
    "\n",
    "$$\\begin{bmatrix}0.25 \\\\0.25 \\\\ -0.25 \\\\ 0.25 \\end{bmatrix} \\text{and } \\begin{bmatrix}-0.25 \\\\ -0.25 \\\\ 0.25 \\\\ -0.25 \\end{bmatrix}.$$\n",
    "\n",
    "Both possibilities are correct, but by fixing the seed you guarantee you will always get the same result. \n",
    "\n",
    "In order to get a consistent result with `np.linalg.eig`, you will invert the order of `eigenvals` and `eigenvecs`, so they are both ordered from largest to smallest eigenvalue."
   ]
  },
  {
   "cell_type": "code",
   "execution_count": null,
   "metadata": {
    "tags": []
   },
   "outputs": [],
   "source": [
    "eigenvals = eigenvals[::-1]\n",
    "eigenvecs = eigenvecs[:,::-1]\n",
    "\n",
    "print(f'Ten largest eigenvalues: \\n{eigenvals[:10]}')"
   ]
  },
  {
   "cell_type": "markdown",
   "metadata": {},
   "source": [
    "Each of the eigenvectors you found will represent one principal components. The eigenvector associated with the largest eigenvalue will be the first principal component, the eigenvector associated with the second largest eigenvalue will be the second principal component, and so on. \n",
    "\n",
    "It is pretty interesting to see that each principal component usually extracts some relevant features, or patterns from each image. In the next cell you will be visualizing the first sixteen components"
   ]
  },
  {
   "cell_type": "code",
   "execution_count": null,
   "metadata": {
    "tags": []
   },
   "outputs": [],
   "source": [
    "fig, ax = plt.subplots(4,4, figsize=(20,20))\n",
    "for n in range(4):\n",
    "    for k in range(4):\n",
    "        ax[n,k].imshow(eigenvecs[:,n*4+k].reshape(height,width), cmap='gray')\n",
    "        ax[n,k].set_title(f'component number {n*4+k+1}')"
   ]
  },
  {
   "cell_type": "markdown",
   "metadata": {},
   "source": [
    "What can you say about each of the principal components? "
   ]
  },
  {
   "cell_type": "markdown",
   "metadata": {},
   "source": [
    "<a name='2.4'></a>\n",
    "### 2.4 Transform the centered data with PCA\n",
    "\n",
    "Now that you have the first 55 eigenvalue-eivenvector pairs, you can transform your data to reduce the dimensions. Remember that your data originally consisted of 4096 variables. Suppose you want to reduce that to just 2 dimensions, then all you need to do to perform the reduction with PCA is take the dot product between your centered data and the matrix $\\boldsymbol{V}=\\begin{bmatrix} v_1 & v_2 \\end{bmatrix}$, whose columns are the first 2 eigenvectors, or principal components, associated to the 2 largest eigenvalues.\n",
    "\n",
    "<a name='ex03'></a>\n",
    "### Exercise 5\n",
    "In the next cell you will define a function that, given the data matrix, the eigenvector matrix (always sorted according to decreasing eignevalues), and the number of principal components to use, performs PCA."
   ]
  },
  {
   "cell_type": "code",
   "execution_count": null,
   "metadata": {
    "deletable": false,
    "tags": [
     "graded"
    ]
   },
   "outputs": [],
   "source": [
    "# GRADED cell\n",
    "def perform_PCA(X, eigenvecs, k):\n",
    "    \"\"\"\n",
    "    Perform dimensionality reduction with PCA\n",
    "    Inputs:\n",
    "        X (ndarray): original data matrix. Has dimensions (n_observations)x(n_variables)\n",
    "        eigenvecs (ndarray): matrix of eigenvectors. Each column is one eigenvector. The k-th eigenvector \n",
    "                            is associated to the k-th eigenvalue\n",
    "        k (int): number of principal components to use\n",
    "    Returns:\n",
    "        Xred\n",
    "    \"\"\"\n",
    "    \n",
    "    ### START CODE HERE ### \n",
    "    V = None\n",
    "    Xred = None\n",
    "    ### END CODE HERE ###\n",
    "    return Xred"
   ]
  },
  {
   "cell_type": "markdown",
   "metadata": {},
   "source": [
    "Try out this function, reducing your data to just two components"
   ]
  },
  {
   "cell_type": "code",
   "execution_count": null,
   "metadata": {
    "tags": []
   },
   "outputs": [],
   "source": [
    "Xred2 = perform_PCA(X, eigenvecs,2)\n",
    "print(f'Xred2 shape: {Xred2.shape}')"
   ]
  },
  {
   "cell_type": "code",
   "execution_count": null,
   "metadata": {
    "deletable": false,
    "editable": false,
    "tags": []
   },
   "outputs": [],
   "source": [
    "# Test your solution.\n",
    "w4_unittest.test_check_PCA(perform_PCA)"
   ]
  },
  {
   "cell_type": "markdown",
   "metadata": {},
   "source": [
    "<a name='2.5'></a>\n",
    "### 2.5 Analizing the dimensionality reduction in 2 dimensions\n",
    "\n",
    "One cool thing about reducing your data to just two components is that you can clearly visualize each cat image on the plane. Remember that each axis on this new plane represents a linear combination of the original variables, given by the direction of the two eigenvectors.\n",
    "\n",
    "Use the function `plot_reduced_data` in `utils`to visualize the transformed data. Each blue dot represents an image, and the number represents the index of the image. This is so you can later recover which image is which, and gain some intuition."
   ]
  },
  {
   "cell_type": "code",
   "execution_count": null,
   "metadata": {
    "tags": []
   },
   "outputs": [],
   "source": [
    "utils.plot_reduced_data(Xred2)"
   ]
  },
  {
   "cell_type": "markdown",
   "metadata": {},
   "source": [
    "If two points end up being close to each other in this representation, it is expected that the original pictures should be similar as well. \n",
    "Let's see if this is true. Consider for example the images 19, 21 and 41, which appear close to each other on the top center of the plot. Plot the corresponding cat images vertfy that they correspond to similar cats. "
   ]
  },
  {
   "cell_type": "code",
   "execution_count": null,
   "metadata": {
    "tags": []
   },
   "outputs": [],
   "source": [
    "fig, ax = plt.subplots(1,3, figsize=(15,5))\n",
    "ax[0].imshow(imgs[19], cmap='gray')\n",
    "ax[0].set_title('Image 19')\n",
    "ax[1].imshow(imgs[21], cmap='gray')\n",
    "ax[1].set_title('Image 21')\n",
    "ax[2].imshow(imgs[41], cmap='gray')\n",
    "ax[2].set_title('Image 41')\n",
    "plt.suptitle('Similar cats')"
   ]
  },
  {
   "cell_type": "markdown",
   "metadata": {},
   "source": [
    "As you can see, all three cats have white snouts and black fur around the eyes, making them pretty similar.\n",
    "\n",
    "Now, let's choose three images that seem far appart from each other, for example image 18, on the middle right, 41 on the top center and 51 on the lower left, and also plot the images"
   ]
  },
  {
   "cell_type": "code",
   "execution_count": null,
   "metadata": {
    "tags": []
   },
   "outputs": [],
   "source": [
    "fig, ax = plt.subplots(1,3, figsize=(15,5))\n",
    "ax[0].imshow(imgs[18], cmap='gray')\n",
    "ax[0].set_title('Image 18')\n",
    "ax[1].imshow(imgs[41], cmap='gray')\n",
    "ax[1].set_title('Image 41')\n",
    "ax[2].imshow(imgs[51], cmap='gray')\n",
    "ax[2].set_title('Image 51')\n",
    "plt.suptitle('Different cats')"
   ]
  },
  {
   "cell_type": "markdown",
   "metadata": {},
   "source": [
    "In this case, all three cats look really different, one being completely black, another completely white, and the the third one a mix of both colors.\n",
    "\n",
    "\n",
    "Feel free to choose different pairs of points and check how similar (or different) the pictures are. \n",
    "\n",
    "<a name='2.6'></a>\n",
    "### 2.6 Reconstructing the images from the eigenvectors\n",
    "\n",
    "When you compress the images using PCA, you are losing some information because you are using fewer variables to represent each observation. \n",
    "\n",
    "A natural question arrises: how many components do you need to get a good reconstruction of the image? Of course, what determines a \"good\" reconstruction might depend on the application.\n",
    "\n",
    "A cool thing is that with a simple dot product you can transform the data after applying PCA back to the original space. This means that you can reconstruct the original image from the transformed space and check how distorted it looks based on the number of components you kept.\n",
    "\n",
    "Suppose you obtained the matrix $X_{red}$ by keeping just two eigenvectors, then $X_{red} = \\mathrm{X}\\underbrace{\\left[v_1\\  v_2\\right]}_{\\boldsymbol{V_2}}$.\n",
    "\n",
    "To transform the images back to the original variables space all you need to do is take the dot product between $X_{red}$ and $\\boldsymbol{V_2}^T$. If you were to keep more components, say $k$, then simply replace $\\boldsymbol{V_2}$ by $\\boldsymbol{V_k} = \\left[v_1\\ v_2\\ \\ldots\\ v_k\\right]$. Notice that you can't make any combination you like, if you reduced the original data to just $k$ components, then the recovery must consider only the first $k$ eigenvectors, otherwise you will not be able to perfrom the matrix multiplication.\n",
    "\n",
    "In the next cell you will define a function that given the transformed data $X_{red}$ and the matrix of eigenvectors returns the recovered image. "
   ]
  },
  {
   "cell_type": "code",
   "execution_count": null,
   "metadata": {
    "tags": []
   },
   "outputs": [],
   "source": [
    "def reconstruct_image(Xred, eigenvecs):\n",
    "    X_reconstructed = Xred.dot(eigenvecs[:,:Xred.shape[1]].T)\n",
    "\n",
    "    return X_reconstructed"
   ]
  },
  {
   "cell_type": "markdown",
   "metadata": {},
   "source": [
    "Let's see what the reconstructed image looks like for different number of principal components"
   ]
  },
  {
   "cell_type": "code",
   "execution_count": null,
   "metadata": {
    "tags": []
   },
   "outputs": [],
   "source": [
    "Xred1 = perform_PCA(X, eigenvecs,1) # reduce dimensions to 1 component\n",
    "Xred5 = perform_PCA(X, eigenvecs, 5) # reduce dimensions to 5 components\n",
    "Xred10 = perform_PCA(X, eigenvecs, 10) # reduce dimensions to 10 components\n",
    "Xred20 = perform_PCA(X, eigenvecs, 20) # reduce dimensions to 20 components\n",
    "Xred30 = perform_PCA(X, eigenvecs, 30) # reduce dimensions to 30 components\n",
    "Xrec1 = reconstruct_image(Xred1, eigenvecs) # reconstruct image from 1 component\n",
    "Xrec5 = reconstruct_image(Xred5, eigenvecs) # reconstruct image from 5 components\n",
    "Xrec10 = reconstruct_image(Xred10, eigenvecs) # reconstruct image from 10 components\n",
    "Xrec20 = reconstruct_image(Xred20, eigenvecs) # reconstruct image from 20 components\n",
    "Xrec30 = reconstruct_image(Xred30, eigenvecs) # reconstruct image from 30 components\n",
    "\n",
    "fig, ax = plt.subplots(2,3, figsize=(22,15))\n",
    "ax[0,0].imshow(imgs[21], cmap='gray')\n",
    "ax[0,0].set_title('original', size=20)\n",
    "ax[0,1].imshow(Xrec1[21].reshape(height,width), cmap='gray')\n",
    "ax[0,1].set_title('reconstructed from 1 components', size=20)\n",
    "ax[0,2].imshow(Xrec5[21].reshape(height,width), cmap='gray')\n",
    "ax[0,2].set_title('reconstructed from 5 components', size=20)\n",
    "ax[1,0].imshow(Xrec10[21].reshape(height,width), cmap='gray')\n",
    "ax[1,0].set_title('reconstructed from 10 components', size=20)\n",
    "ax[1,1].imshow(Xrec20[21].reshape(height,width), cmap='gray')\n",
    "ax[1,1].set_title('reconstructed from 20 components', size=20)\n",
    "ax[1,2].imshow(Xrec30[21].reshape(height,width), cmap='gray')\n",
    "ax[1,2].set_title('reconstructed from 30 components', size=20)\n"
   ]
  },
  {
   "cell_type": "markdown",
   "metadata": {},
   "source": [
    "As you can see, as the number of components increases, the reconstructed image looks more and more as the original one. Even with as little as 1 component you can are least identify where the relevant features such as eyes and nose are located. \n",
    "\n",
    "What happens when you consider all of the 55 eigenvectors associated to non-zero eigenvalues? Go ahead and experiment with different number of principal components and see what happens."
   ]
  },
  {
   "cell_type": "markdown",
   "metadata": {},
   "source": [
    "<a name='2.7'></a>\n",
    "### 2.7 Explained variance\n",
    "\n",
    "When deciding how many components to use for the dimensionality reduction, one good criteria to consider is the explained variance. \n",
    "\n",
    "The explained variance is measure of how much variation in a dataset can be attributed to each of the principal components (eigenvectors). In other words, it tells us how much of the total variance is “explained” by each component. \n",
    "\n",
    "In PCA, the first principal component, i.e. the eigenvector associated to the largest eigenvalue, is the one with greatest explained variance. As you might remember from the lectures, the goal of PCA is to reduce the dimensionality by projecting data in the directions with biggest variability. \n",
    "\n",
    "In practical terms, the explained variance of a principal component is the ratio between its associated eigenvalue and the sum of all the eigenvalues. So, for our example, if you want the explained variance of the first principal component you will need to do $\\frac{\\lambda_1}{\\sum_{i=1}^{55} \\lambda_i}$\n",
    "\n",
    "Next, let's plot the explained variance of each of the 55 principal components, or eigenvectors. Don't worry about the fact that you only computed 55 eigenvalue-eigenvector pairs, recall that all the remaining eigenvalues of the covariance matrix are zero, and thus won't add enything to the explained variance.\n"
   ]
  },
  {
   "cell_type": "code",
   "execution_count": null,
   "metadata": {
    "tags": []
   },
   "outputs": [],
   "source": [
    "explained_variance = eigenvals/sum(eigenvals)\n",
    "plt.plot(np.arange(1,56), explained_variance)"
   ]
  },
  {
   "cell_type": "markdown",
   "metadata": {},
   "source": [
    "As you can see, the explaied variance falls pretty fast, and is very small after the 20th component.\n",
    "\n",
    "A good way to decide on the number of components is to keep the ones that explain a very high percentage of the variance, for example 95%. \n",
    "\n",
    "For an easier visualization you can plot the cummulative explained variance. You can do this with the `np.cumsum` function. Let's see what this looks like"
   ]
  },
  {
   "cell_type": "code",
   "execution_count": null,
   "metadata": {},
   "outputs": [],
   "source": [
    "explained_cum_variance = np.cumsum(explained_variance)\n",
    "plt.plot(np.arange(1,56), explained_cum_variance)\n",
    "plt.axhline(y=0.95, color='r')"
   ]
  },
  {
   "cell_type": "markdown",
   "metadata": {},
   "source": [
    "In red you can see the 95% line. This means that if you want to be able to explain 95% of the variance of your data you need to keep 35 principal components. \n",
    "\n",
    "Let's see how some of the original images look after the recostruction when using 35 principal components \n",
    "\n"
   ]
  },
  {
   "cell_type": "code",
   "execution_count": null,
   "metadata": {},
   "outputs": [],
   "source": [
    "Xred35 = perform_PCA(X, eigenvecs, 35) # reduce dimensions to 35 components\n",
    "Xrec35 = reconstruct_image(Xred35, eigenvecs) # reconstruct image from 35 components\n",
    "\n",
    "fig, ax = plt.subplots(4,2, figsize=(15,28))\n",
    "ax[0,0].imshow(imgs[0], cmap='gray')\n",
    "ax[0,0].set_title('original', size=20)\n",
    "ax[0,1].imshow(Xrec35[0].reshape(height, width), cmap='gray')\n",
    "ax[0,1].set_title('Reconstructed', size=20)\n",
    "\n",
    "ax[1,0].imshow(imgs[15], cmap='gray')\n",
    "ax[1,0].set_title('original', size=20)\n",
    "ax[1,1].imshow(Xrec35[15].reshape(height, width), cmap='gray')\n",
    "ax[1,1].set_title('Reconstructed', size=20)\n",
    "\n",
    "ax[2,0].imshow(imgs[32], cmap='gray')\n",
    "ax[2,0].set_title('original', size=20)\n",
    "ax[2,1].imshow(Xrec35[32].reshape(height, width), cmap='gray')\n",
    "ax[2,1].set_title('Reconstructed', size=20)\n",
    "\n",
    "ax[3,0].imshow(imgs[54], cmap='gray')\n",
    "ax[3,0].set_title('original', size=20)\n",
    "ax[3,1].imshow(Xrec35[54].reshape(height, width), cmap='gray')\n",
    "ax[3,1].set_title('Reconstructed', size=20)\n"
   ]
  },
  {
   "cell_type": "markdown",
   "metadata": {},
   "source": [
    "Most of this reconstructions look pretty good, and you were able to save a lot of memory by reducing the data from 4096 variables to just 35!\n",
    "\n",
    "Now that you understand how the explained variance works you can play around with different amount of explaied variance and see how this affects the reconstructed images. You can elso explore how the reconstruction for different images looks like. \n",
    "\n",
    "As you can see, PCA is a really usefull tool for dimensionality reduction. In this assignment you saw how it works on images, but you can aplly the same principle to any tabular dataset. \n",
    "\n",
    "Congratulations! You have finished the assignment in this week."
   ]
  }
 ],
 "metadata": {
  "accelerator": "GPU",
  "colab": {
   "collapsed_sections": [],
   "name": "C1_W1_Assignment_Solution.ipynb",
   "provenance": []
  },
  "coursera": {
   "schema_names": [
    "AI4MC1-1"
   ]
  },
  "grader_version": "3",
  "kernelspec": {
   "display_name": "Python 3",
   "language": "python",
   "name": "python3"
  },
  "language_info": {
   "codemirror_mode": {
    "name": "ipython",
    "version": 3
   },
   "file_extension": ".py",
   "mimetype": "text/x-python",
   "name": "python",
   "nbconvert_exporter": "python",
   "pygments_lexer": "ipython3",
   "version": "3.11.8"
  },
  "toc": {
   "base_numbering": 1,
   "nav_menu": {},
   "number_sections": true,
   "sideBar": true,
   "skip_h1_title": false,
   "title_cell": "Table of Contents",
   "title_sidebar": "Contents",
   "toc_cell": false,
   "toc_position": {},
   "toc_section_display": true,
   "toc_window_display": false
  },
  "vscode": {
   "interpreter": {
    "hash": "478841ab876a4250505273c8a697bbc1b6b194054b009c227dc606f17fb56272"
   }
  }
 },
 "nbformat": 4,
 "nbformat_minor": 1
}
